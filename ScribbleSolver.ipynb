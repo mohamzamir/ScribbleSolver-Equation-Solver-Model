{
  "cells": [
    {
      "cell_type": "code",
      "execution_count": null,
      "metadata": {
        "id": "tQSMxkELJSEK"
      },
      "outputs": [],
      "source": [
        "import numpy as np\n",
        "import pandas as pd\n",
        "import cv2\n",
        "import os\n",
        "from os import listdir\n",
        "from os.path import join\n",
        "import matplotlib.pyplot as plt"
      ]
    },
    {
      "cell_type": "code",
      "source": [
        "from google.colab import drive\n",
        "drive.mount('/content/drive')"
      ],
      "metadata": {
        "colab": {
          "base_uri": "https://localhost:8080/"
        },
        "id": "N_owHC-eKBgq",
        "outputId": "9b3b7072-1b6a-4986-d077-aaf85eecb1c3"
      },
      "execution_count": null,
      "outputs": [
        {
          "output_type": "stream",
          "name": "stdout",
          "text": [
            "Drive already mounted at /content/drive; to attempt to forcibly remount, call drive.mount(\"/content/drive\", force_remount=True).\n"
          ]
        }
      ]
    },
    {
      "cell_type": "code",
      "execution_count": null,
      "metadata": {
        "id": "GkanzRoGPpLD"
      },
      "outputs": [],
      "source": [
        "index_dir={'0':0, '1':1,'2':2,'3':3,'4':4,'5':5,'6':6,'7':7,'8':8,'9':9,'+':10,'-':11,'times':12}"
      ]
    },
    {
      "cell_type": "code",
      "execution_count": null,
      "metadata": {
        "id": "YQnzmPYhWwOn"
      },
      "outputs": [],
      "source": [
        "def get_index(directory):\n",
        "    try:\n",
        "        return index_dir[directory]\n",
        "    except KeyError:\n",
        "        print(f\"Directory '{directory}' not found in index_dir.\")\n",
        "        return None\n",
        "\n",
        "def load_images(folder):\n",
        "    train_data = []\n",
        "\n",
        "    for filename in os.listdir(folder):\n",
        "        img = cv2.imread(os.path.join(folder,filename), cv2.IMREAD_GRAYSCALE)\n",
        "        #img = ~img\n",
        "        if img is not None:\n",
        "            img = ~img\n",
        "            _, img = cv2.threshold(img, 127, 255, cv2.THRESH_BINARY)\n",
        "            ctrs, _ = cv2.findContours(img, cv2.RETR_EXTERNAL, cv2.CHAIN_APPROX_NONE)\n",
        "            cnt = sorted(ctrs, key=lambda ctr: cv2.boundingRect(ctr)[0])\n",
        "            m = 0\n",
        "            for c in cnt:\n",
        "                x, y, w, h = cv2.boundingRect(c)\n",
        "                m = max(w*h, m)\n",
        "                if m == w*h:\n",
        "                    x_max,y_max,w_max,h_max=x,y,w,h\n",
        "            im_crop = img[y_max:y_max+h_max+10, x_max:x_max+w_max+10]\n",
        "            im_resize = cv2.resize(im_crop, (28, 28))\n",
        "            im_resize = np.reshape(im_resize, (784, 1))\n",
        "            train_data.append(im_resize)\n",
        "    return train_data"
      ]
    },
    {
      "cell_type": "code",
      "execution_count": null,
      "metadata": {
        "id": "_476bc5RsCGE"
      },
      "outputs": [],
      "source": [
        "!unzip /content/drive/MyDrive/extracted_images-2.zip"
      ]
    },
    {
      "cell_type": "code",
      "execution_count": null,
      "metadata": {
        "id": "CPWxAAHPW0hI"
      },
      "outputs": [],
      "source": [
        "dataset_dir = '/content/extracted_images-2'\n",
        "directory_list = listdir(dataset_dir)\n",
        "\n",
        "first = True\n",
        "data = []\n",
        "print('Importing...')\n",
        "for directory in directory_list:\n",
        "    full_path = os.path.join(dataset_dir, directory)\n",
        "    if os.path.isdir(full_path):\n",
        "        print(directory)\n",
        "        if first:\n",
        "            first = False\n",
        "            data = load_images(full_path)\n",
        "            for i in range(len(data)):\n",
        "                data[i] = np.append(data[i], [str(get_index(directory))])\n",
        "            continue\n",
        "\n",
        "        auxiliary_data = load_images(full_path)\n",
        "        for i in range(len(auxiliary_data)):\n",
        "            auxiliary_data[i] = np.append(auxiliary_data[i], [str(get_index(directory))])\n",
        "        data = np.concatenate((data, auxiliary_data))\n",
        "\n",
        "df = pd.DataFrame(data, index=None)\n",
        "df.to_csv('./sample_data/train_data.csv', index=False)"
      ]
    },
    {
      "cell_type": "code",
      "execution_count": null,
      "metadata": {
        "id": "jfIUDpql74qR"
      },
      "outputs": [],
      "source": [
        "import pandas as pd\n",
        "import numpy as np\n",
        "from sklearn.model_selection import train_test_split\n",
        "from tensorflow.keras import layers\n",
        "from tensorflow.keras.utils import to_categorical\n",
        "\n",
        "df_train = pd.read_csv('/content/sample_data/train_data.csv', index_col=False)\n",
        "labels = df_train[['784']]\n",
        "df_train.head()\n",
        "\n",
        "df_train.drop(df_train.columns[[784]], axis=1, inplace=True)\n",
        "np.random.seed(1212)\n",
        "\n",
        "labels = np.array(labels)\n",
        "\n",
        "categorical_data = to_categorical(labels, num_classes=13)\n",
        "\n",
        "l = []\n",
        "for i in range(df_train.shape[0]):\n",
        "    l.append(np.array(df_train[i:i + 1]).reshape(28, 28, 1))\n",
        "\n",
        "print(len(l))\n",
        "\n",
        "train_X, test_X, train_y, test_y = train_test_split(np.array(l), categorical_data, test_size=0.20, random_state=42)\n",
        "\n",
        "print(len(train_X))\n",
        "print(len(train_y))\n",
        "print(len(test_X))\n",
        "\n",
        "np.random.seed(7)"
      ]
    },
    {
      "cell_type": "code",
      "execution_count": null,
      "metadata": {
        "id": "sQSgFZL876ZQ"
      },
      "outputs": [],
      "source": [
        "from tensorflow import keras\n",
        "\n",
        "model = keras.Sequential([\n",
        "    layers.Conv2D(30, (5, 5), input_shape=(28, 28, 1), activation='relu'),\n",
        "    layers.MaxPool2D(pool_size=2),\n",
        "    layers.Conv2D(15, (3, 3), activation='relu'),\n",
        "    layers.MaxPool2D(pool_size=2),\n",
        "    layers.Dropout(0.2),\n",
        "    layers.Flatten(),\n",
        "    layers.Dense(128, activation='relu'),\n",
        "    layers.Dense(50, activation='relu'),\n",
        "    layers.Dense(13, activation='softmax'),\n",
        "])\n",
        "\n",
        "model.compile(loss='categorical_crossentropy', optimizer='adam', metrics=['accuracy'])\n",
        "\n",
        "model.fit(train_X, train_y, validation_split=0.25, epochs=10, batch_size=200, shuffle=True, verbose=1)"
      ]
    },
    {
      "cell_type": "code",
      "execution_count": null,
      "metadata": {
        "id": "WHKZRyc_79ya"
      },
      "outputs": [],
      "source": [
        "model.evaluate(test_X, test_y)"
      ]
    },
    {
      "cell_type": "code",
      "execution_count": null,
      "metadata": {
        "id": "S6i-83fM7-OM"
      },
      "outputs": [],
      "source": [
        "model.summary()"
      ]
    },
    {
      "cell_type": "code",
      "source": [
        "model_json = model.to_json()\n",
        "with open('/content/sample_data/model.json', 'w') as json_file:\n",
        "    json_file.write(model_json)\n",
        "model.save_weights('model_weights.h5')\n"
      ],
      "metadata": {
        "id": "0miruvXL_V6p"
      },
      "execution_count": null,
      "outputs": []
    },
    {
      "cell_type": "code",
      "execution_count": null,
      "metadata": {
        "id": "ejcL0WyA7_nT"
      },
      "outputs": [],
      "source": [
        "from tensorflow.keras.models import model_from_json\n",
        "\n",
        "print('Loading Model...')\n",
        "model_json = open('/content/sample_data/model.json', 'r')\n",
        "loaded_model_json = model_json.read()\n",
        "model_json.close()\n",
        "model = model_from_json(loaded_model_json)\n",
        "\n",
        "print('Loading weights...')\n",
        "model.load_weights(\"/content/sample_data/model_weights.h5\")"
      ]
    },
    {
      "cell_type": "code",
      "execution_count": null,
      "metadata": {
        "id": "4i4cPCcJH-qX"
      },
      "outputs": [],
      "source": [
        "labels = [ '0', '1', '2', '3', '4', '5', '6', '7', '8', '9','+','-','x']"
      ]
    },
    {
      "cell_type": "code",
      "execution_count": null,
      "metadata": {
        "id": "gc6-3pNeIB70"
      },
      "outputs": [],
      "source": [
        "from PIL import Image,ImageDraw,ImageGrab"
      ]
    },
    {
      "cell_type": "code",
      "execution_count": null,
      "metadata": {
        "id": "9465t1j7ID9f"
      },
      "outputs": [],
      "source": [
        "def activate_event(event):\n",
        "        global lasx,lasy\n",
        "        lasx,lasy=event.x,event.y"
      ]
    },
    {
      "cell_type": "code",
      "execution_count": null,
      "metadata": {
        "id": "E2soKhmHITpI"
      },
      "outputs": [],
      "source": [
        "def draw_smth(event):\n",
        "    global lasx,lasy\n",
        "    cv.create_line((lasx,lasy,event.x,event.y),fill='black',width=4)\n",
        "    #cv.draw.line([x1, y1, x2, y2], fill=\"black\", width=7)\n",
        "    lasx,lasy=event.x,event.y"
      ]
    },
    {
      "cell_type": "code",
      "execution_count": null,
      "metadata": {
        "id": "eqEmZH68IVV8"
      },
      "outputs": [],
      "source": [
        "def save():\n",
        "    filename=\"/content/sample_data/Screenshot 2023-07-04 at 12.41.36 AM.png\"\n",
        "    widget = cv\n",
        "    x=root.winfo_rootx()+widget.winfo_x()+50\n",
        "    y=root.winfo_rooty()+widget.winfo_y()+50\n",
        "    x1=x+widget.winfo_width()\n",
        "    y1=y+widget.winfo_height()\n",
        "\n",
        "    ImageGrab.grab().crop((x,y,x1,y1)).save(filename)"
      ]
    },
    {
      "cell_type": "code",
      "source": [
        "from sympy import *\n",
        "\n",
        "class Solver:\n",
        "    def __init__(self, equation):\n",
        "        self.equation = str(equation)\n",
        "        self.leftEqu = []\n",
        "\n",
        "    def convertEquationIntoGeneralForm(self):\n",
        "        leftSide, rightSide = '', ''\n",
        "        equalIndx = self.equation.index('=')\n",
        "        leftSide = self.equation[0:equalIndx]\n",
        "        rightSide = self.equation[equalIndx + 1:len(self.equation)]\n",
        "\n",
        "        if rightSide[0].isalpha() or rightSide[0].isdigit():\n",
        "            rightSide = '+' + rightSide\n",
        "\n",
        "        for i in range(0, len(rightSide)):\n",
        "            if rightSide[i] == '+':\n",
        "                rightSide = rightSide[0:i] + '-' + rightSide[i + 1:len(rightSide)]\n",
        "            elif rightSide[i] == '-':\n",
        "                rightSide = rightSide[0:i] + '+' + rightSide[i + 1:len(rightSide)]\n",
        "            leftSide += rightSide[i]\n",
        "\n",
        "        self.equation = leftSide + '=' + '0'\n",
        "        self.leftEqu = leftSide\n",
        "\n",
        "    def solveEquation(self):\n",
        "        self.convertEquationIntoGeneralForm()\n",
        "        sympy_eq = sympify(\"Eq(\" + self.equation.replace(\"=\", \",\") + \")\")\n",
        "        roots = solve(sympy_eq)\n",
        "\n",
        "        return roots\n",
        "\n",
        "def solve_equation(equation):\n",
        "    solution = Solver(equation)\n",
        "    roots = solution.solveEquation()\n",
        "    return roots\n",
        "\n",
        "#equation = input(\"Enter the equation: \")\n",
        "#roots = solve_equation(equation)\n",
        "#print(\"Roots:\", roots)\n"
      ],
      "metadata": {
        "id": "rrkeWU0rKxam"
      },
      "execution_count": null,
      "outputs": []
    },
    {
      "cell_type": "code",
      "source": [
        "import cmath\n",
        "\n",
        "class Solver:\n",
        "    def __init__(self, equation):\n",
        "        self.equation = equation\n",
        "\n",
        "    def parse_equation(self):\n",
        "\n",
        "        left, right = self.equation.split(\"=\")\n",
        "\n",
        "        parts = [part for part in (left + \"-\" + right).replace(\"-\", \"+-\").split(\"+\") if part]\n",
        "\n",
        "        coefficients = {'x^2': 0, 'x': 0, 'const': 0}\n",
        "\n",
        "        for part in parts:\n",
        "            if 'x^2' in part:\n",
        "                coefficients['x^2'] += float(part.replace('x^2', '') or '1')\n",
        "            elif 'x' in part:\n",
        "                coefficients['x'] += float(part.replace('x', '') or '1')\n",
        "            else:\n",
        "                coefficients['const'] += float(part)\n",
        "\n",
        "        return coefficients\n",
        "\n",
        "    def solve_equation(self):\n",
        "        coefficients = self.parse_equation()\n",
        "        a = coefficients['x^2']\n",
        "        b = coefficients['x']\n",
        "        c = coefficients['const']\n",
        "\n",
        "        disc = b**2 - 4*a*c\n",
        "\n",
        "        if a != 0:\n",
        "\n",
        "            if disc < 0:\n",
        "                return [\n",
        "                    (-b + cmath.sqrt(disc)) / (2*a),\n",
        "                    (-b - cmath.sqrt(disc)) / (2*a)\n",
        "                ]\n",
        "\n",
        "            else:\n",
        "                return [\n",
        "                    (-b + disc**0.5) / (2*a),\n",
        "                    (-b - disc**0.5) / (2*a)\n",
        "                ]\n",
        "        elif b != 0:\n",
        "\n",
        "            return [-c/b]\n",
        "        else:\n",
        "\n",
        "            if c == 0:\n",
        "                return ['All numbers are solutions']\n",
        "            else:\n",
        "                return ['No solution']\n",
        "\n",
        "    def solve_polynomial_equation(self):\n",
        "      coefficients = self.parse_equation(self)\n",
        "      degree = max(coefficient.keys(), key = lambda x: coefficients[x])\n",
        "\n",
        "      if degree == 'x^2':\n",
        "          return self.solve_equation()\n",
        "      elif degree == 'x':\n",
        "          return self.solve_linear_equation(coefficients)\n",
        "      elif degree == 'const':\n",
        "          return self.solve_constant_equation(coefficients)\n",
        "      else:\n",
        "          return ['No valid polynomial equation']\n",
        "\n",
        "\n",
        "def solve_equation(equation):\n",
        "    solution = Solver(equation)\n",
        "    roots = solution.solve_equation()\n",
        "    return roots\n",
        "\n",
        "#equation = input(\"Enter the equation: \")\n",
        "#roots = solve_equation(equation)\n",
        "#print(\"Roots:\", roots)"
      ],
      "metadata": {
        "id": "GbGFz3m7QoS1"
      },
      "execution_count": null,
      "outputs": []
    },
    {
      "cell_type": "code",
      "execution_count": null,
      "metadata": {
        "id": "PUNmoOMpIbMN"
      },
      "outputs": [],
      "source": [
        "def predictFromArray(arr):\n",
        "    result = model.predict(arr)\n",
        "    predicted_classes = np.argmax(result, axis=-1)\n",
        "    return predicted_classes"
      ]
    },
    {
      "cell_type": "code",
      "execution_count": null,
      "metadata": {
        "id": "iFRvtCJ4Ic6V"
      },
      "outputs": [],
      "source": [
        "def solution():\n",
        "    img = cv2.imread('/content/sample_data/unnamed.jpg', cv2.IMREAD_GRAYSCALE)\n",
        "    img = ~img\n",
        "    ret, thresh = cv2.threshold(img, 127, 255, cv2.THRESH_BINARY)\n",
        "    ctrs, _ = cv2.findContours(thresh, cv2.RETR_EXTERNAL, cv2.CHAIN_APPROX_SIMPLE)\n",
        "    cnt = sorted(ctrs, key=lambda ctr: cv2.boundingRect(ctr)[0])\n",
        "    img_data = []\n",
        "    rects = []\n",
        "    for c in cnt:\n",
        "        x, y, w, h = cv2.boundingRect(c)\n",
        "        rect = [x, y, w, h]\n",
        "        rects.append(rect)\n",
        "    bool_rect = []\n",
        "    for r in rects:\n",
        "        l = []\n",
        "        for rec in rects:\n",
        "            flag = 0\n",
        "            if rec != r:\n",
        "                if r[0] < (rec[0] + rec[2] + 10) and rec[0] < (r[0] + r[2] + 10) and r[1] < (rec[1] + rec[3] + 10) and \\\n",
        "                        rec[1] < (r[1] + r[3] + 10):\n",
        "                    flag = 1\n",
        "                l.append(flag)\n",
        "            if rec == r:\n",
        "                l.append(0)\n",
        "        bool_rect.append(l)\n",
        "    dump_rect = []\n",
        "    for i in range(0, len(cnt)):\n",
        "        for j in range(0, len(cnt)):\n",
        "            if bool_rect[i][j] == 1:\n",
        "                area1 = rects[i][2] * rects[i][3]\n",
        "                area2 = rects[j][2] * rects[j][3]\n",
        "                if area1 == min(area1, area2):\n",
        "                    dump_rect.append(rects[i])\n",
        "    print('dump_rects:', dump_rect)\n",
        "    final_rect = [i for i in rects if i not in dump_rect]\n",
        "    print('final_rects:', final_rect)\n",
        "    for r in final_rect:\n",
        "        x = r[0]\n",
        "        y = r[1]\n",
        "        w = r[2]\n",
        "        h = r[3]\n",
        "        im_crop = thresh[y:y + h + 10, x:x + w + 10]\n",
        "\n",
        "        im_resize = cv2.resize(im_crop, (28, 28))\n",
        "\n",
        "        im_resize = np.reshape(im_resize, (1, 28, 28))\n",
        "        img_data.append(im_resize)\n",
        "\n",
        "    mainEquation = []\n",
        "    operation = ''\n",
        "    for i in range(len(img_data)):\n",
        "        img_data[i] = np.array(img_data[i])\n",
        "        img_data[i] = img_data[i].reshape(1, 28, 28, 1)\n",
        "        result = predictFromArray(img_data[i])\n",
        "        print(f\"Predictions made: {len(mainEquation)}\")\n",
        "        if len(result) > 0:\n",
        "            i = result[0]\n",
        "            mainEquation.append(labels[i])\n",
        "\n",
        "    StringEquation = \"\"\n",
        "    for i in range(len(mainEquation)):\n",
        "        a = mainEquation[i]\n",
        "        if a.isdigit() == False and a.isalpha() == False and i < len(mainEquation) - 1:\n",
        "            if a == mainEquation[i + 1] == '-':\n",
        "                StringEquation += '='\n",
        "            else:\n",
        "                StringEquation += a\n",
        "        if a.isalpha():\n",
        "            if i > 0 and mainEquation[i - 1].isdigit():\n",
        "                StringEquation += \"*\" + a\n",
        "            else:\n",
        "                StringEquation += a\n",
        "        if a.isdigit():\n",
        "            if i > 0:\n",
        "                if mainEquation[i - 1].isdigit():\n",
        "                    StringEquation += a\n",
        "                elif mainEquation[i - 1].isalpha():\n",
        "                    StringEquation += \"^\" + a\n",
        "                else:\n",
        "                    StringEquation += a\n",
        "            else:\n",
        "                StringEquation += a\n",
        "\n",
        "    newStr = \"\"\n",
        "    l = list(StringEquation)\n",
        "    for i in range(len(l)):\n",
        "        if l[i] == \"=\":\n",
        "            newStr = l[:i + 1] + l[i + 2:]\n",
        "    equ = \"\"\n",
        "    for i in newStr:\n",
        "        equ += i\n",
        "    solution = Solver(equ)\n",
        "\n",
        "    str1 = ''\n",
        "    roots = solution.solve_equation()\n",
        "    st = []\n",
        "    for i in roots:\n",
        "        i = str(i)\n",
        "        st.append(i)\n",
        "\n",
        "    str1 = ', '.join(st)\n",
        "\n",
        "    solving(equ, str1)"
      ]
    },
    {
      "cell_type": "code",
      "execution_count": null,
      "metadata": {
        "id": "-s6JS6DFIfdn"
      },
      "outputs": [],
      "source": [
        "from tkinter import *\n",
        "\n",
        "root = Tk()\n",
        "root.resizable(0,0)\n",
        "root.title('Equation Solver')\n",
        "\n",
        "lasx,lasy=None,None\n",
        "\n",
        "cv=Canvas(root,width=1200,height=500,bg='white')\n",
        "#cv=Canvas(root,width=1600,height=500,bg='white')\n",
        "cv.grid(row=0,column=0,pady=2,sticky=W,columnspan=2)\n",
        "cve2=Label(root)\n",
        "cve=Label(root,font=(\"Helvetica\", 16))\n",
        "cve.grid(row=0, column=1,pady=1, padx=1)\n",
        "cve2.grid(row=1, column=1,pady=1, padx=1)\n",
        "\n",
        "cv.bind('<Button-1>',activate_event)\n",
        "cv.bind('<B1-Motion>',draw_smth)\n",
        "btn_save=Button(text=\"Save\",command=save,bg='#6495ED',fg='Black')\n",
        "btn_save.grid(row=2,column=0,pady=1,padx=1)\n",
        "\n",
        "btn_predict=Button(text=\"Predict\",command=solution,bg='#6495ED',fg='Black')\n",
        "btn_predict.grid(row=2,column=1,pady=1,padx=1)\n",
        "\n",
        "\n",
        "def solving(equ,roots):\n",
        "\n",
        "    cve2.configure(text='Your Equation is : '+equ)\n",
        "    cve.configure(text='Result : '+(roots)+'\\n')\n",
        "root.mainloop()"
      ]
    }
  ],
  "metadata": {
    "accelerator": "GPU",
    "colab": {
      "provenance": [],
      "gpuType": "T4"
    },
    "kernelspec": {
      "display_name": "Python 3",
      "name": "python3"
    },
    "language_info": {
      "name": "python"
    }
  },
  "nbformat": 4,
  "nbformat_minor": 0
}